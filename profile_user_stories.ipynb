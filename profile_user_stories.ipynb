{
 "cells": [
  {
   "cell_type": "markdown",
   "metadata": {},
   "source": [
    "<h4>Manage Profile User Stories</h4>"
   ]
  },
  {
   "cell_type": "raw",
   "metadata": {
    "vscode": {
     "languageId": "raw"
    }
   },
   "source": [
    "As a user, I want to be able to view my credentials in my profile\n",
    "-\tGiven I am logged in and on my profile page, when I view my profile information, then my email address \n",
    "    should be displayed.\n",
    "\n",
    "As a user, I want to be able to change my password from my profile page\n",
    "-\tGiven I am logged in and on my profile page, when I enter my correct old password, a new password that \n",
    "    meets complexity requirements, and confirm the new password, then my password should be updated successfully, \n",
    "    and I should receive a confirmation message.\n",
    "-\tGiven I am logged in and on my profile page, when I enter an incorrect old password, then I should remain on \n",
    "    the password change form and receive an error message indicating the incorrect password.\n",
    "\n",
    "As a user, I want to shield the old and new passwords as the user types them\n",
    "-\tGiven a user is on their profile page, when the user enters their old password, then the old password \n",
    "    field should mask the characters entered.\n",
    "-\tGiven a user is on their profile page, when the user enters their new password, then the new password \n",
    "    field should mask the characters entered (e.g., using asterisks or dots).\n",
    "-\tGiven a user is on their profile page, when the user types their old or new password, then the passwords \n",
    "    should not be visible in plain text in the browser's source code or developer tools.\n",
    "\n",
    "As a user, I want to receive an error message if my new password is not adequately complex\n",
    "-\tGiven I am on the profile page, when I enter a new password that does not meet the complexity requirements, \n",
    "    then I should remain on the password change form and receive a clear error message explaining the password requirements.\n",
    "-\tGiven I am on the profile page, when I enter a new password and the \"Confirm New Password\" does not match, \n",
    "    then I should remain on the password change form and receive a clear error message indicating the mismatch.\n"
   ]
  }
 ],
 "metadata": {
  "language_info": {
   "name": "python"
  }
 },
 "nbformat": 4,
 "nbformat_minor": 2
}
