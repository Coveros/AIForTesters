{
 "cells": [
  {
   "cell_type": "markdown",
   "metadata": {},
   "source": [
    "<h4>Login User Stories</h4>"
   ]
  },
  {
   "cell_type": "raw",
   "metadata": {
    "vscode": {
     "languageId": "raw"
    }
   },
   "source": [
    "As a user, I want to be able to log in with my username and password so that I can access my account.\n",
    "-\tGiven I am on the login page, when I enter a valid username and password, then I should be redirected to the \n",
    "    wine classification page.\n",
    "-\tGiven I am not logged in, when I go to the wine classification application, then I should be presented with \n",
    "    the login page and not be able to access the wine classification page\n",
    "\n",
    "As a user, I want to receive an error message if I enter an incorrect username or password so that I can try again.\n",
    "-\tGiven I am on the login page, when I enter an incorrect username or password, then an error message should \n",
    "    be displayed that does not reveal any specific details about why the login failed\n",
    "-\tGiven I am on the login page, when I enter an incorrect username or password, then an error message should \n",
    "    be prominently displayed in such a way that I don't miss it\n",
    "\n",
    "As a user, I want to shield the password I type in so that nobody can see it\n",
    "-\tGiven a user is on the login page, when the user types their password, then the password field should mask \n",
    "    the characters entered.\n",
    "-\tGiven a user is on the login page, when the user types their password, then the password should not be \n",
    "    visible in plain text in the browser's source code or developer tools.\n"
   ]
  }
 ],
 "metadata": {
  "language_info": {
   "name": "python"
  }
 },
 "nbformat": 4,
 "nbformat_minor": 2
}
