{
 "cells": [
  {
   "cell_type": "markdown",
   "id": "246095f2-b7c0-4d92-8887-b192cf14e24b",
   "metadata": {},
   "source": [
    "<h2>Demo 19 - Test Suite Reduction</h2>"
   ]
  },
  {
   "cell_type": "markdown",
   "id": "81ec1499-54a7-4df2-9bf7-2ba4d4acf6a9",
   "metadata": {},
   "source": [
    "In this demo we will show how an open-source tool called [Modificare](https://github.com/Coveros/modificare) can take a code coverage matrix as input and use it to produce a reduced set of test cases.\n",
    "\n",
    "The Modificare codebase has already been checked out locally, and while the tool provides a number of capabilities related to fault localization, test suite prioritization, and test suite reduction, we will focus on the latter set of capabilities.\n",
    "\n",
    "We will first read in and then print the coverage matrix that we will use for test suite reduction. In this matrix, rows represent statements in an application called \"Point\" and columns represent test cases that verify application functionality. A value of TRUE at the intersection of a test and a statement means that the test covers that statement, while a value of FALSE means that the statement is NOT covered by that test."
   ]
  },
  {
   "cell_type": "code",
   "execution_count": null,
   "id": "fc4937d8-b4bd-4c90-91a1-faea83d6ab56",
   "metadata": {},
   "outputs": [],
   "source": [
    "if (!grepl(\"modificare\", getwd())) {\n",
    "    setwd(paste(getwd(), \"/modificare\",sep=\"\"))\n",
    "}\n",
    "\n",
    "source(\"FDP_Start.R\")\n",
    "zTryReload()\n",
    "pointCoverageMatrix <- makeLogFM(read.table(\"reqMatrices/StatementCoverageMatrices/Point_1_line_true_Coverage.dat\"))\n",
    "\n",
    "print(pointCoverageMatrix)"
   ]
  },
  {
   "cell_type": "markdown",
   "id": "f36f762e-8e4f-4ccd-90a2-e400525db5fb",
   "metadata": {},
   "source": [
    "Now that the coverage matrix is available, we can use it to produce a reduced test suite. The goal is for the test suite to have only those test cases that will allow full code coverage to be achieved and no other test cases.\n",
    "\n",
    "As we discussed earlier in the course, a genetic algorithm is a type of artificial intelligence, so we will use it to reduce the test suite. In this example the algorithm removed one redundant test case from a suite that originally contained 13 tests. More significant reductions are usually seen in larger test suites where the likelihood of having redundancy tends to be higher"
   ]
  },
  {
   "cell_type": "code",
   "execution_count": null,
   "id": "e29364a4-ca20-4208-84f3-38bfcf47cf83",
   "metadata": {},
   "outputs": [],
   "source": [
    "suppressWarnings(GA_reduction(pointCoverageMatrix))$Ord"
   ]
  }
 ],
 "metadata": {
  "kernelspec": {
   "display_name": "R",
   "language": "R",
   "name": "ir"
  },
  "language_info": {
   "codemirror_mode": "r",
   "file_extension": ".r",
   "mimetype": "text/x-r-source",
   "name": "R",
   "pygments_lexer": "r",
   "version": "4.4.0"
  }
 },
 "nbformat": 4,
 "nbformat_minor": 5
}
