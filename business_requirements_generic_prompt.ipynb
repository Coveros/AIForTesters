{
 "cells": [
  {
   "cell_type": "markdown",
   "metadata": {},
   "source": [
    "<h3>Business Requirements Generic Prompt</h3>\n",
    "<h4>Generic Prompt</h4>\n",
    "\n"
   ]
  },
  {
   "cell_type": "raw",
   "metadata": {
    "vscode": {
     "languageId": "raw"
    }
   },
   "source": [
    "You are a software testing expert planning to test a software application that classifies wines by their chemical \n",
    "properties. Analyze the requirements for this application delimited by hash marks below and generate questions \n",
    "that will clarify ambiguities in these requirements. Associate these questions with the relevant requirements they \n",
    "apply to. If you believe there are missing requirements or questions that span across requirements, please put \n",
    "them underneath a new category called \"General Questions\".\n",
    "\n",
    "###\n",
    "[Place business requirements here]\n",
    "####"
   ]
  },
  {
   "cell_type": "markdown",
   "metadata": {},
   "source": [
    "<h4>Generic Prompt Result</h4>"
   ]
  },
  {
   "cell_type": "raw",
   "metadata": {},
   "source": [
    "Wine Classifier Requirements Analysis and Clarification Questions\n",
    "Here's an analysis of the provided requirements, along with clarifying questions for each:\n",
    "\n",
    "Functional Business Requirements:\n",
    "\n",
    "1. Login: Users shall login to their account to use the wine classification software.\n",
    "\n",
    "Q1 (Login): What authentication method will be used (e.g., username/password, social login, multi-factor authentication)?\n",
    "Q2 (Login): What happens if a user forgets their password? Is there a password recovery process?\n",
    "Q3 (Login): Are there different user roles with different access levels after login? If so, what are they and what are their permissions?\n",
    "Q4 (Login): What constitutes a successful login? Are there specific criteria for password complexity?\n",
    "\n",
    "2. Register: Users without an account shall register and create an account.\n",
    "\n",
    "Q5 (Register): What information is required for registration (e.g., name, email, address, etc.)?\n",
    "Q6 (Register): Are there any validation rules for the registration data (e.g., email format, password strength)?\n",
    "Q7 (Register): What happens after successful registration? Is there an email confirmation or activation step?\n",
    "Q8 (Register): What is the process for handling duplicate registrations (e.g., same email address)?\n",
    "\n",
    "3. Classify Wines: Users shall be able to enter wine characteristics and classify a wine.\n",
    "\n",
    "Q9 (Classify Wines): What are the specific wine characteristics that users can enter (e.g., acidity, sugar content, alcohol content, etc.)? Is there a defined list or format for these characteristics?\n",
    "Q10 (Classify Wines): How does the system determine the classification? What algorithm or database is used?\n",
    "Q11 (Classify Wines): What is the output of the classification process? Is it a specific wine type, a list of potential types, or some other information? How is this information presented to the user?\n",
    "Q12 (Classify Wines): Is there a limit to the number of classifications a user can perform?\n",
    "Q13 (Classify Wines): Can users save their classification results?\n",
    "\n",
    "4. Manage Profiles: Users shall be able to view their profile and change their password.\n",
    "\n",
    "Q14 (Manage Profiles): What information is displayed in the user profile?\n",
    "Q15 (Manage Profiles): Besides password changes, what other profile information can users modify?\n",
    "Q16 (Manage Profiles): What is the process for changing a password? Are there any password complexity rules enforced?\n",
    "\n",
    "5. View About: All visitors to the website shall be able to access an About page.\n",
    "\n",
    "Q17 (View About): What information will be included on the About page?\n",
    "\n",
    "6. Activity Logging: User activity shall be logged.\n",
    "\n",
    "Q18 (Activity Logging): What specific user activities are logged (e.g., login/logout, classifications performed, profile changes)?\n",
    "Q19 (Activity Logging): How long are the logs retained?\n",
    "Q20 (Activity Logging): Who has access to the activity logs?\n",
    "\n",
    "7. Administration: Administrators shall be able to perform administrative functions.\n",
    "\n",
    "Q21 (Administration): What are the specific administrative functions (e.g., user management, system configuration, report generation)?\n",
    "Q22 (Administration): How do administrators access the administrative interface?\n",
    "Q23 (Administration): Are there different levels of administrative access?\n",
    "\n",
    "Non-functional Business Requirements\n",
    "\n",
    "1. Security: Sensitive user information shall be kept secure.\n",
    "\n",
    "Q24 (Security): What specific security measures will be implemented to protect sensitive user information (e.g., encryption, access controls, vulnerability scanning)?\n",
    "Q25 (Security): What data is considered \"sensitive\"?\n",
    "\n",
    "2. Privacy: Sensitive information shall be hidden from view.\n",
    "\n",
    "Q26 (Privacy): What specific information is considered \"sensitive\" and should be hidden? From whom should it be hidden (e.g., other users, the public)?\n",
    "Q27 (Privacy): How will this information be hidden (e.g., masked, access restrictions)?\n",
    "\n",
    "3. Performance: The software shall be fast enough to satisfy users.\n",
    "\n",
    "Q28 (Performance): What are the specific performance requirements (e.g., response time for classification, page load times)? Are there any specific metrics defined?\n",
    "Q29 (Performance): What is the expected user load?\n",
    "\n",
    "4. User Experience: The software shall be easy to understand and use.\n",
    "\n",
    "Q30 (User Experience): What specific usability testing or design guidelines will be used to ensure a good user experience?\n",
    "Q31 (User Experience): Who are the target users, and what is their level of technical expertise?\n",
    "\n",
    "5. General Questions\n",
    "\n",
    "Q32 (General): What is the intended platform for the application (e.g., web-based, mobile app, desktop application)?\n",
    "Q33 (General): Are there any specific regulatory requirements that the software must comply with (e.g., data privacy regulations)?\n",
    "Q34 (General): What is the process for handling errors and exceptions?\n",
    "Q35 (General): Is there any integration with other systems required?\n"
   ]
  }
 ],
 "metadata": {
  "language_info": {
   "name": "python"
  }
 },
 "nbformat": 4,
 "nbformat_minor": 2
}
