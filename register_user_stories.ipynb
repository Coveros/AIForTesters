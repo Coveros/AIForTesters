{
 "cells": [
  {
   "cell_type": "markdown",
   "metadata": {},
   "source": [
    "<h4>Register User Stories</h4>"
   ]
  },
  {
   "cell_type": "raw",
   "metadata": {
    "vscode": {
     "languageId": "raw"
    }
   },
   "source": [
    "As a new user, I want to be able to register for an account so that I can use the product’s features.\n",
    "-\tGiven I am on the registration page, when I enter valid and unique information in all required fields, \n",
    "    then a new account should be created, and I should be redirected to a login page.\n",
    "-\tGiven I am on the registration page, when I enter valid information, but the email address is already \n",
    "    associated with an existing account, then I should remain on the registration page and see an appropriate \n",
    "    error message.\n",
    "-\tGiven I am on the registration page, when I leave required fields blank, then I should remain on the \n",
    "    registration page, and error messages should appear indicating the missing fields.\n",
    "-\tGiven I am on the registration page, when the password and confirmed passwords I type in do not match, \n",
    "    then I should remain on the registration page, and an error message should appear indicating that these \n",
    "    passwords do not match.\n",
    "\n",
    "As a user, I want to be able to click on a link to navigate to the registration page if I don't have an account yet.\n",
    "-\tGiven I am on the login page, when I click on the \"Register\" or \"Create Account\" link, then I should be \n",
    "    redirected to the registration page.\n",
    "\n",
    "As a user, I want to shield the password I select while typing it in\n",
    "-\tGiven a user is on the registration page, when the user enters their password, then the password field \n",
    "    should mask the characters entered so it is not visible on the screen\n",
    "-\tGiven a user is on the registration page, when the user enters their password, then the password should \n",
    "    not be visible in plain text in the browser's source code or developer tools.\n",
    "-\tGiven a user is on the registration page, when the user confirms their password, then the password field \n",
    "    should mask the characters entered so it is not visible on the screen\n",
    "-\tGiven a user is on the registration page, when the user confirms their password, then the password should \n",
    "    not be visible in plain text in the browser's source code or developer tools.\n",
    "\n",
    "As a user, I want to receive an error message if my email address is  not properly formed\n",
    "-\tGiven a user on the registration page, when the email address is not properly formed, then an appropriate \n",
    "    error message should be displayed and I should remain on the registration page\n",
    "\n",
    "As a user, I want to receive an error message if my password is not adequately complex\n",
    "-\tGiven a user on the registration page, when the password I select is not complex enough, then an appropriate \n",
    "    error message should be displayed and I should remain on the registration page\n"
   ]
  }
 ],
 "metadata": {
  "language_info": {
   "name": "python"
  }
 },
 "nbformat": 4,
 "nbformat_minor": 2
}
