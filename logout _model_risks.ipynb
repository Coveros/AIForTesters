{
 "cells": [
  {
   "cell_type": "markdown",
   "metadata": {},
   "source": [
    "<h3>Logout Risks User Stories + Model Prompt</h3>\n",
    "<h4>User Stories + Model Prompt</h4>"
   ]
  },
  {
   "cell_type": "raw",
   "metadata": {
    "vscode": {
     "languageId": "raw"
    }
   },
   "source": [
    "You are a software testing expert planning to test a software application that classifies wines by their chemical \n",
    "properties. The application is a flask web application that uses HTML for the UI and MySQL to maintain user \n",
    "login and profile information. The trained model is stored in pickle format. The application uses session \n",
    "tokens to manage sessions and encryption to protect user profile information and logging data.\n",
    "\n",
    "Suggest a list of risks for the logout user stories delimited by ampersands below and using the following \n",
    "constraints:\n",
    "\n",
    "# Focus on the quality characteristics of security, privacy, performance\n",
    "# Number each risk and associate them with the user story they align with\n",
    "# Provide which quality characteristic the risk relates to\n",
    "# Use no more than 30 words to describe each risk\n",
    "# Make sure risks are created for security, privacy, and performance for each user story\n",
    "# Make sure risks are enumerated for each technology used in the application\n",
    "\n",
    "&&&\n",
    "As a logged in user, I want to be able to log out from my account so that I cannot classify wines until I log \n",
    "in again\n",
    "\n",
    "As a logged out user, I should not be able to access the logout functionality\n",
    "\n",
    "As a logged out user, I should not be able to access any of the pages that only a logged in user can access\n",
    "&&&"
   ]
  },
  {
   "cell_type": "markdown",
   "metadata": {},
   "source": [
    "<h4>User Stories + Model Prompt Result</h4>"
   ]
  },
  {
   "cell_type": "raw",
   "metadata": {
    "vscode": {
     "languageId": "raw"
    }
   },
   "source": [
    "Logout User Story 1: \n",
    "    1 Session token not invalidated on logout, allowing continued access. (Security) \n",
    "    2 Logout process slow, leading to denial-of-service vulnerability. (Performance) \n",
    "    3 Personal data cached during logout, potentially exposed. (Privacy)\n",
    "\n",
    "Logout User Story 2: \n",
    "    1 Logout button visible when logged out, leading to unexpected errors. (Security) \n",
    "    2 Client-side scripts allow execution of logout functionality when logged out. (Security)\n",
    "\n",
    "Logout User Story 3: \n",
    "    1 Access control bypass allows logged-out users to view classified wine data. (Security) \n",
    "    2 Server-side validation missing, allowing direct access to logged-in pages. (Security) \n",
    "    3 User profile information is not properly cleared when logged out. (Privacy)\n",
    "\n",
    "As a logged in user, I want to be able to log out from my account so that I cannot classify wines until I log in again.\n",
    "\n",
    "1. Security (Flask): Flask session token might not be invalidated server-side, leading to potential session reuse.\n",
    "2. Privacy (MySQL): User session data in MySQL might not be immediately deleted upon logout.\n",
    "3. Performance (HTML): Browser caching of HTML pages might show logged-in content briefly after logout.\n",
    "4. Security (Pickle): Although less direct, improper session handling could theoretically expose the application to risks if session data interacts with the model loading process.\n",
    "\n",
    "As a logged out user, I should not be able to access the logout functionality.\n",
    "\n",
    "1. Security (HTML): Logout button or link might still be present in the HTML for logged-out users.\n",
    "2. Privacy (Flask): Flask might still process a logout request from an already logged-out user, potentially logging unnecessary data.\n",
    "3. Performance (MySQL): An attempt to process logout for a logged-out user might result in unnecessary queries to the MySQL database.\n",
    "4. Security (Pickle): This user story doesn't directly involve the pickled model, so a direct security risk is less applicable here.\n",
    "\n",
    "As a logged out user, I should not be able to access any of the pages that only a logged in user can access.\n",
    "\n",
    "1. Security (Flask): Inadequate route protection in Flask might allow access to logged-in pages.\n",
    "2. Privacy (MySQL): Cached data fetched from MySQL for logged-in users might be accessible on these pages if not properly handled.\n",
    "3. Performance (Pickle): Attempting to access protected pages might trigger the loading of the pickled model unnecessarily, impacting performance.\n",
    "4. Security (HTML): Links to logged-in pages might still be present in the HTML accessible to logged-out users, even if the routes are protected."
   ]
  }
 ],
 "metadata": {
  "kernelspec": {
   "display_name": "training-env",
   "language": "python",
   "name": "training-env"
  },
  "language_info": {
   "codemirror_mode": {
    "name": "ipython",
    "version": 3
   },
   "file_extension": ".py",
   "mimetype": "text/x-python",
   "name": "python",
   "nbconvert_exporter": "python",
   "pygments_lexer": "ipython3",
   "version": "3.11.3"
  }
 },
 "nbformat": 4,
 "nbformat_minor": 2
}
