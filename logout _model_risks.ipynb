{
 "cells": [
  {
   "cell_type": "markdown",
   "metadata": {},
   "source": [
    "<h3>Logout Risks User Stories + Model Prompt</h3>\n",
    "<h4>User Stories + Model Prompt</h4>"
   ]
  },
  {
   "cell_type": "raw",
   "metadata": {
    "vscode": {
     "languageId": "raw"
    }
   },
   "source": [
    "You are a software testing expert planning to test a software application that classifies wines by their chemical \n",
    "properties. The application is a flask web application that uses HTML for the UI and MySQL to maintain user \n",
    "login and profile information. The trained model is stored in pickle format. The application uses session \n",
    "tokens to manage sessions and encryption to protect user profile information and logging data.\n",
    "\n",
    "Suggest a list of risks for the logout user stories delimited by ampersands below and using the following \n",
    "constraints:\n",
    "\n",
    "# Focus on the quality characteristics of security, privacy, performance\n",
    "# Number each risk and associate them with the user story they align with\n",
    "# Provide which quality characteristic the risk relates to\n",
    "# Use no more than 30 words to describe each risk\n",
    "\n",
    "&&&\n",
    "As a logged in user, I want to be able to log out from my account so that I cannot classify wines until I log \n",
    "in again\n",
    "\n",
    "As a logged out user, I should not be able to access the logout functionality\n",
    "\n",
    "As a logged out user, I should not be able to access any of the pages that only a logged in user can access\n",
    "&&&"
   ]
  }
 ],
 "metadata": {
  "language_info": {
   "name": "python"
  }
 },
 "nbformat": 4,
 "nbformat_minor": 2
}
