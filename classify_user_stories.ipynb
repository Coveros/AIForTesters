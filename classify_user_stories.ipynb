{
 "cells": [
  {
   "cell_type": "markdown",
   "metadata": {},
   "source": [
    "<h4>Classify Wines User Stories</h4>"
   ]
  },
  {
   "cell_type": "raw",
   "metadata": {},
   "source": [
    "As a user, I want to enter wine characteristics so I can classify wines\n",
    "-\tGiven I am on the wine classification page, when I enter valid wine characteristic values within the \n",
    "    expected ranges and hit the Submit button, then The application predicts which f three different wine \n",
    "    varieties these characteristics best fit.\n",
    "-\tGiven I am on the wine classification page, when I enter wine characteristic values outside of the expected \n",
    "    ranges or in an incorrect format (e.g., text instead of numbers). then The application displays a clear and \n",
    "    informative error message for each invalid input field, without classifying the wine.\n",
    "-\tGiven I am on the wine classification input page, when I leave one or more required wine characteristic \n",
    "    fields blank, then the application displays a clear and informative error message indicating the missing \n",
    "    required fields, and the classification does not proceed.\n",
    "\n",
    "As a user, I cannot access the wine characteristics page unless I log in\n",
    "-\tGiven I am a user but not logged in, when: I attempt to access the wine classification page, then I am \n",
    "    redirected to the login page\n"
   ]
  }
 ],
 "metadata": {
  "language_info": {
   "name": "python"
  }
 },
 "nbformat": 4,
 "nbformat_minor": 2
}
