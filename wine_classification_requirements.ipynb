{
 "cells": [
  {
   "cell_type": "markdown",
   "metadata": {},
   "source": [
    "<h2>Wine Classification Requirements</h2>\n",
    "This document contains a high level list of requirements in user story format for our wine classification model"
   ]
  },
  {
   "cell_type": "markdown",
   "metadata": {},
   "source": [
    "<h3>Classify wines</h3>\n",
    "\n",
    "Choose wine attributes:\n",
    "As a user, I want to enter available wine attributes on the UI, so that I can characterize my wine.\n",
    "\n",
    "Predict wine variation:\n",
    "As a user, I want to submit the wine attributes I entered and receive a predicted wine variety, so that I can classify my wine.\n",
    "\n",
    "Show wine variation:\n",
    "As a user, I want to see the predicted wine variety displayed clearly on the UI, so that I know what type of wine it is.\n",
    "\n",
    "Stop erroneous data entry:\n",
    "As a user, I want to thwart the entry of erroneous wine attribute data ranges, so that I make sure my wine charateristics are valid."
   ]
  },
  {
   "cell_type": "markdown",
   "metadata": {
    "vscode": {
     "languageId": "plaintext"
    }
   },
   "source": [
    "<h3>Store results</h3>\n",
    "View history:\n",
    "As a user, I want to see a history of my previous predictions, so that I can view my results over time.\n",
    "\n",
    "Save history:\n",
    "As a user, I want to be able to save my predictions, so that I can keep track of my results.\n",
    "\n",
    "Export history:\n",
    "As a user, I want to be able to export my prediction history to a CSV file, so that I can load them into a spreadsheet."
   ]
  },
  {
   "cell_type": "markdown",
   "metadata": {},
   "source": [
    "<h3>Training Pipeline Requirements</h3>\n",
    "\n",
    "As a data scientist, I want to split the data into training and testing sets, so that I can train the model on a representative sample and evaluate its performance on unseen data.\n",
    "\n",
    "As a data scientist, I want to experiment with different classification algorithms like Decision Trees, Random Forests, SVM, Logistic Regression, and KNN, so that I can find the model that best fits the data.\n",
    "\n",
    "As a data scientist, I want to evaluate the performance of each model using metrics like accuracy, precision, recall, F1-score, and confusion matrix, so that I can compare their effectiveness and choose the best performing one.\n",
    "\n",
    "As a data scientist, I want to tune the hyperparameters of the best performing model, so that I can further improve its accuracy and generalization capabilities.\n",
    "\n",
    "As a data scientist, I want to split data, train models, evaluate performance, and tune models, so that I can select the best model for use in production.\n"
   ]
  }
 ],
 "metadata": {
  "kernelspec": {
   "display_name": "Python 3 (ipykernel)",
   "language": "python",
   "name": "python3"
  },
  "language_info": {
   "codemirror_mode": {
    "name": "ipython",
    "version": 3
   },
   "file_extension": ".py",
   "mimetype": "text/x-python",
   "name": "python",
   "nbconvert_exporter": "python",
   "pygments_lexer": "ipython3",
   "version": "3.12.3"
  }
 },
 "nbformat": 4,
 "nbformat_minor": 4
}
