{
 "cells": [
  {
   "cell_type": "markdown",
   "metadata": {},
   "source": [
    "<h4>Logout User Stories</h4>"
   ]
  },
  {
   "cell_type": "raw",
   "metadata": {},
   "source": [
    "As a user, I want to be able to log out from my account when I'm logged in so that I cannot classify wines until I log in \n",
    "again\n",
    "-\tGiven I am logged into the system, when I select the Logout item from the top menu, then I am logged out \n",
    "    and redirected to the login page\n",
    "\n",
    "As a user, I should not be able to access the logout functionality when logged in\n",
    "-\tGiven I am logged out of the application, when I go to any application pages, then I cannot log out again\n",
    "\n",
    "As a user, I should not be able to access any of the pages that only a logged-in user can access when logged out\n",
    "-\tGiven I am logged out of the application, when I try to access either the wine classification or profile \n",
    "    pages, then, I am redirected to the Login page, \n"
   ]
  }
 ],
 "metadata": {
  "language_info": {
   "name": "python"
  }
 },
 "nbformat": 4,
 "nbformat_minor": 2
}
