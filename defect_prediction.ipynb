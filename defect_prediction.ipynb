{
 "cells": [
  {
   "cell_type": "markdown",
   "id": "246095f2-b7c0-4d92-8887-b192cf14e24b",
   "metadata": {},
   "source": [
    "<h2>Exercise 5 - Building a Defect Prediction System</h2>"
   ]
  },
  {
   "cell_type": "markdown",
   "id": "81ec1499-54a7-4df2-9bf7-2ba4d4acf6a9",
   "metadata": {},
   "source": [
    "**Introduction.** During this exercise you will be building a defect prediction system. Since creating such functionality from scratch would take more time than we have available, you will have the opportunity to select the features of the data that the model will use during both training and prediction.\n",
    "\n",
    "Please read the background information for each step and then execute the code block. The steps that require you to modify the code will be clearly marked.\n",
    "\n",
    "Thank you to prabhdeep123, who created the defect prediction system that this exercise was heavily influenced by. If you wish you can [view the original code](https://www.kaggle.com/code/prabhdeep123/software-defect-prediction)."
   ]
  },
  {
   "cell_type": "markdown",
   "id": "d2bd1d6d-f7ed-45b9-9e49-a44281098919",
   "metadata": {},
   "source": [
    "**Step 1.** The first step is to import the libraries needed to implement our defect prediction approach. We then ignore warnings that we don't need to concern ourselves with."
   ]
  },
  {
   "cell_type": "code",
   "execution_count": 13,
   "id": "aca05e80-90a7-4415-aef3-e8976830cf4c",
   "metadata": {},
   "outputs": [],
   "source": [
    "# Import any needed libraries.\n",
    "import numpy as np # linear algebra\n",
    "import pandas as pd # data processing, CSV file I/O (e.g. pd.read_csv)\n",
    "from sklearn.model_selection import train_test_split\n",
    "from sklearn.linear_model import LogisticRegression\n",
    "from sklearn.metrics import roc_auc_score\n",
    "import warnings\n",
    "\n",
    "# Disable all warnings\n",
    "warnings.filterwarnings(\"ignore\")"
   ]
  },
  {
   "cell_type": "markdown",
   "id": "2784d6f9-8f2f-4ce6-a950-37d24a430c6a",
   "metadata": {},
   "source": [
    "**Step 2.** We then load the datasets that are stored on the local filesystem. *jm1.csv* contains source code metrics and defect presence information for a NASA real-time predictive ground system written in C and will be used to train the model. *cm1.csv* contains the same information for a NASA spacecraft instrument written in C and will be used to evaluate the model.\n",
    "\n",
    "We then drop those rows that have missing values."
   ]
  },
  {
   "cell_type": "code",
   "execution_count": 14,
   "id": "e27e72a7-e159-41e7-8a55-d2aa463b87e6",
   "metadata": {},
   "outputs": [],
   "source": [
    "# Load the train and test datasets.\n",
    "train_df  = pd.read_csv('jm1.csv')\n",
    "test_df = pd.read_csv('cm1.csv')\n",
    "\n",
    "# Prepare the data to be processed.\n",
    "indexes = test_df.index\n",
    "train_df.replace('?', pd.NA, inplace=True)\n",
    "test_df.replace('?', pd.NA, inplace=True)\n",
    "train_df.dropna(subset=train_df.columns[4:6], inplace=True)"
   ]
  },
  {
   "cell_type": "markdown",
   "id": "3d51dd7a-4a8c-4cd9-a082-4f87951ebecd",
   "metadata": {},
   "source": [
    "**Step 3.** We then update a few columns so that they are represented as numeric values. After that we store the last column separately since information on the presence of defects will be used to evaluate the model, not to train it.\n",
    "\n",
    "We then select the subset of columns (features) that should be used during training and testing. **You can leave this line as-is for now, but you will later be modifying it to determine what combination of features causes the model optimizes model performance.**"
   ]
  },
  {
   "cell_type": "code",
   "execution_count": 15,
   "id": "2f656e89-9b4f-4288-abee-7c34a2a2c634",
   "metadata": {},
   "outputs": [],
   "source": [
    "# Make the values in the five columns preceding the final column numeric.\n",
    "# Drop any rows for which such conversion fails.\n",
    "train_df[train_df.columns[16:21]] = train_df[train_df.columns[16:21]].apply(pd.to_numeric, errors='coerce')\n",
    "test_df[test_df.columns[16:21]] = test_df[test_df.columns[16:21]].apply(pd.to_numeric, errors='coerce')\n",
    "train_df.dropna(inplace=True)\n",
    "test_df.dropna(inplace=True)\n",
    "train_df[train_df.columns[16:21]] = train_df[train_df.columns[16:21]].astype(int)\n",
    "test_df[test_df.columns[16:21]] = test_df[test_df.columns[16:21]].astype(int)\n",
    "\n",
    "# Store the defects column from the training data separately.\n",
    "X = train_df.drop('defects', axis = 1)\n",
    "y = train_df['defects'].astype('int')\n",
    "\n",
    "# Select some subset of the below columns to use during training and testing.\n",
    "# 1.  loc               : numeric % McCabe's line count of code\n",
    "# 2.  v(g)              : numeric % McCabe \"cyclomatic complexity\"\n",
    "# 3.  ev(g)             : numeric % McCabe \"essential complexity\"\n",
    "# 4.  iv(g)             : numeric % McCabe \"design complexity\"\n",
    "# 5.  n                 : numeric % Halstead total operators + operands\n",
    "# 6.  v                 : numeric % Halstead \"volume\"\n",
    "# 7.  l                 : numeric % Halstead \"program length\"\n",
    "# 8.  d                 : numeric % Halstead \"difficulty\"\n",
    "# 9.  i                 : numeric % Halstead \"intelligence\"\n",
    "# 10. e                 : numeric % Halstead \"effort\"\n",
    "# 11. b                 : numeric % Halstead\n",
    "# 12. t                 : numeric % Halstead's time estimator\n",
    "# 13. lOCode            : numeric % Halstead's line count\n",
    "# 14. lOComment         : numeric % Halstead's count of lines of comments\n",
    "# 15. lOBlank           : numeric % Halstead's count of blank lines\n",
    "# 16. locCodeAndComment : numeric\n",
    "# 17. uniq_Op           : numeric % unique operators\n",
    "# 18. uniq_Opnd         : numeric % unique operands\n",
    "# 19. total_Op          : numeric % total operators\n",
    "# 20. total_Opnd        : numeric % total operands\n",
    "# 21: branchCount       : numeric % of the flow graph\n",
    "X = X[['loc', 'd', 'locCodeAndComment', 'v(g)', 'uniq_Opnd', 'i']]\n",
    "\n",
    "# Prepare data to be used during training and testing.\n",
    "X_train, X_test, y_train, y_test = train_test_split(X, y, test_size=0.2, random_state=42)"
   ]
  },
  {
   "cell_type": "markdown",
   "id": "288fca1b-3b70-4b05-a77e-10baeefebec1",
   "metadata": {},
   "source": [
    "**Step 4.** The final step is to create a logistic regression model using the training data and to then evaluate it against the test data. The metric that we use to evaluate its performance is \"AUC-ROC\", which is the area under the Receiver Operating Characteristic curve. This value will be between 0 and 1, where 0 indicates a model that has not predictive power while a value of 1 means that the model perfectly predicts defects.\n",
    "\n",
    "**Now that you have a sense for how this defect prediction system works, you should perform some experimentation to determine what combination of features (columns) in the training data yields the highest quality predictions. You can go to Step 3, modify the list of features, and then re-run both Steps 3 and 4 to see how the AUC-ROC value changes. Alternatively, you can press 'Ctrl-F9' to re-run all of the blocks.**\n",
    "\n",
    "**You may wish to start by using individual features so you can see which of them have greater predictive power and then combining those that seem promising. Please be prepared to discuss what you've learned as well as the maximum AUC-ROC value you achieved with the class.**"
   ]
  },
  {
   "cell_type": "code",
   "execution_count": 16,
   "id": "50f9bac9-f809-47d2-9dc9-d1ead3c73efb",
   "metadata": {},
   "outputs": [
    {
     "name": "stdout",
     "output_type": "stream",
     "text": [
      "Logistic Regression AUC-ROC: 0.7271697390458622\n"
     ]
    }
   ],
   "source": [
    "logistic_model = LogisticRegression(random_state=42)\n",
    "logistic_model.fit(X_train, y_train)\n",
    "logistic_predictions = logistic_model.predict_proba(X_test)[:, 1]\n",
    "logistic_auc_roc = roc_auc_score(y_test, logistic_predictions)\n",
    "print(f\"Logistic Regression AUC-ROC: {logistic_auc_roc}\")"
   ]
  },
  {
   "cell_type": "code",
   "execution_count": null,
   "id": "b7814697-305d-449f-89f7-78d31e83d04a",
   "metadata": {},
   "outputs": [],
   "source": []
  }
 ],
 "metadata": {
  "kernelspec": {
   "display_name": "training-env-python-3-12",
   "language": "python",
   "name": "training-env-python-3-12"
  },
  "language_info": {
   "codemirror_mode": {
    "name": "ipython",
    "version": 3
   },
   "file_extension": ".py",
   "mimetype": "text/x-python",
   "name": "python",
   "nbconvert_exporter": "python",
   "pygments_lexer": "ipython3",
   "version": "3.12.3"
  }
 },
 "nbformat": 4,
 "nbformat_minor": 5
}
