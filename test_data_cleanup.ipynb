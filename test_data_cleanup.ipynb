{
 "cells": [
  {
   "cell_type": "markdown",
   "metadata": {},
   "source": [
    "<h3>Test Data Cleanup</h3>\n",
    "<h4> Test Data Masking Prompt</h4"
   ]
  },
  {
   "cell_type": "raw",
   "metadata": {
    "vscode": {
     "languageId": "raw"
    }
   },
   "source": [
    "My test data is contained in a CSV formatted structure below between hash marks. The first column contains \n",
    "user names that are sensitive. Please produce a new set of data that adds a column for a unique identifier I \n",
    "can use to replace their name\n",
    "\n",
    "###\n",
    "Joe Blow, \"I don't like your product\"\n",
    "Freda Bleeda, \"Your product is bad\"\n",
    "Jim Bob Billy, \"Two thumbs down\"\n",
    "Jack Jill, \"Works perfectly!!!\"\n",
    "Helen Bell, \"Please refund my money\"\n",
    "Julia Childer, \"Works fine\"\n",
    "Gregory Deck, \"Bad instructions\"\n",
    "Matt Pack, \"Missing parts\"\n",
    "Joe Joe Moe, \"Love it\"\n",
    "Stacy Rush, \"Can you add more colors?\"\n",
    "###"
   ]
  },
  {
   "cell_type": "markdown",
   "metadata": {},
   "source": [
    "<h4>Test Data Masking Prompt Response</h4>"
   ]
  },
  {
   "cell_type": "raw",
   "metadata": {
    "vscode": {
     "languageId": "raw"
    }
   },
   "source": [
    "Here's your data with a new column containing unique identifiers:\n",
    "\n",
    "User\t        Feedback\t                User_ID\n",
    "Joe Blow\t    \"I don't like your product\"\tUser_1\n",
    "Freda Bleeda\t\"Your product is bad\"\t    User_2\n",
    "Jim Bob Billy\t\"Two thumbs down\"\t        User_3\n",
    "Jack Jill\t    \"Works perfectly!!!\"\t    User_4\n",
    "Helen Bell\t    \"Please refund my money\"\tUser_5\n",
    "Julia Childer\t\"Works fine\"\t            User_6\n",
    "Gregory Deck\t\"Bad instructions\"\t        User_7\n",
    "Matt Pack\t    \"Missing parts\"\t            User_8\n",
    "Joe Joe Moe\t    \"Love it\"\t                User_9\n",
    "Stacy Rush\t    \"Can you add more colors?\"\tUser_10"
   ]
  },
  {
   "cell_type": "markdown",
   "metadata": {},
   "source": [
    "<h4>Test Data Cleanup Prompt</h4>"
   ]
  },
  {
   "cell_type": "raw",
   "metadata": {
    "vscode": {
     "languageId": "raw"
    }
   },
   "source": [
    "My test data is located in a CSV formatted structure below between hash marks. Please analyze this data to \n",
    "identify missing data fields or data that appears to have an incorrect type. Correct any of these issues you \n",
    "find and output a new improved data set. The last column is the expected result which can be used to determine \n",
    "what values can be properly put into the missing data fields. Please explain the changes you made and justify them.\n",
    "\n",
    "###\n",
    "Username, feedback, score\n",
    "User_1, \"I don't like your product\", 1\n",
    "User_2,\t\"Your product is bad\", 1.52\n",
    "User_3, \"Two thumbs down\", 2\n",
    "User_4, \"Works perfectly!!!\", 5\n",
    "User_5, \"Please refund my money\", 1\n",
    "User_6, \"Works fine\", 4\n",
    "User_1, \"I don't like your product\", 1\n",
    "User_7, \"Bad instructions\", 3\n",
    "User_8, \"Missing parts\", 3\n",
    "User_9, \"Love it\", 5\n",
    "User_10, \"Can you add more colors?\", 4\n",
    "User_11, \"Love the product\",\n",
    "###"
   ]
  },
  {
   "cell_type": "markdown",
   "metadata": {},
   "source": [
    "<h4>Test Data Cleanup Prompt Response"
   ]
  },
  {
   "cell_type": "raw",
   "metadata": {
    "vscode": {
     "languageId": "raw"
    }
   },
   "source": [
    "Analysis of Issues:\n",
    "\n",
    "Missing Values: There is a missing value in the score column (row 11). Corrected it by adding a value of 5 \n",
    "based on the pattern observed in the data.\n",
    "\n",
    "Inconsistent Decimal Precision: The score column has values \n",
    "with varying numbers of decimal places. This might indicate inconsistencies in how the data was collected or \n",
    "recorded. Rounded the scores that were not digits to the nearest whole number to maintain consistency.\n",
    "\n",
    "Duplicate Rows: User_1 feedback in there twice. Removed the duplicate row to avoid redundancy.\n",
    "\n",
    "Corrected Dataset:\n",
    "\n",
    "Username, feedback, score\n",
    "User_1, \"I don't like your product\", 1\n",
    "User_2,\t\"Your product is bad\", 2\n",
    "User_3, \"Two thumbs down\", 2\n",
    "User_4, \"Works perfectly!!!\", 5\n",
    "User_5, \"Please refund my money\", 1\n",
    "User_6, \"Works fine\", 4\n",
    "User_7, \"Bad instructions\", 3\n",
    "User_8, \"Missing parts\", 3\n",
    "User_9, \"Love it\", 5\n",
    "User_10, \"Can you add more colors?\", 4\n",
    "User_11, \"Love the product\", 5"
   ]
  },
  {
   "cell_type": "markdown",
   "metadata": {},
   "source": [
    "<h4>Test Data Transformation Prompt</h4>"
   ]
  },
  {
   "cell_type": "raw",
   "metadata": {
    "vscode": {
     "languageId": "raw"
    }
   },
   "source": [
    "My test data is located in a CSV formatted structure below between hash marks. Please transform this dataset from \n",
    "CSV to JSON.\n",
    "\n",
    "###\n",
    "Username, feedback, score\n",
    "User_1, \"I don't like your product\", 1\n",
    "User_2,\t\"Your product is bad\", 2\n",
    "User_3, \"Two thumbs down\", 2\n",
    "User_4, \"Works perfectly!!!\", 5\n",
    "User_5, \"Please refund my money\", 1\n",
    "User_6, \"Works fine\", 4\n",
    "User_7, \"Bad instructions\", 3\n",
    "User_8, \"Missing parts\", 3\n",
    "User_9, \"Love it\", 5\n",
    "User_10, \"Can you add more colors?\", 4\n",
    "User_11, \"Love the product\", 5\n",
    "###"
   ]
  },
  {
   "cell_type": "markdown",
   "metadata": {},
   "source": [
    "<h4>Test Data Transformation Prompt Reponse</h4>"
   ]
  },
  {
   "cell_type": "raw",
   "metadata": {
    "vscode": {
     "languageId": "raw"
    }
   },
   "source": [
    "[\n",
    "  {\n",
    "    \"Username\": \"User_1\",\n",
    "    \"feedback\": \"I don't like your product\",\n",
    "    \"score\": 1\n",
    "  },\n",
    "  {\n",
    "    \"Username\": \"User_2\",\n",
    "    \"feedback\": \"Your product is bad\",\n",
    "    \"score\": 2\n",
    "  },\n",
    "  {\n",
    "    \"Username\": \"User_3\",\n",
    "    \"feedback\": \"Two thumbs down\",\n",
    "    \"score\": 2\n",
    "  },\n",
    "  {\n",
    "    \"Username\": \"User_4\",\n",
    "    \"feedback\": \"Works perfectly!!!\",\n",
    "    \"score\": 5\n",
    "  },\n",
    "  {\n",
    "    \"Username\": \"User_5\",\n",
    "    \"feedback\": \"Please refund my money\",\n",
    "    \"score\": 1\n",
    "  },\n",
    "  {\n",
    "    \"Username\": \"User_6\",\n",
    "    \"feedback\": \"Works fine\",\n",
    "    \"score\": 4\n",
    "  },\n",
    "  {\n",
    "    \"Username\": \"User_7\",\n",
    "    \"feedback\": \"Bad instructions\",\n",
    "    \"score\": 3\n",
    "  },\n",
    "  {\n",
    "    \"Username\": \"User_8\",\n",
    "    \"feedback\": \"Missing parts\",\n",
    "    \"score\": 3\n",
    "  },\n",
    "  {\n",
    "    \"Username\": \"User_9\",\n",
    "    \"feedback\": \"Love it\",\n",
    "    \"score\": 5\n",
    "  },\n",
    "  {\n",
    "    \"Username\": \"User_10\",\n",
    "    \"feedback\": \"Can you add more colors?\",\n",
    "    \"score\": 4\n",
    "  },\n",
    "  {\n",
    "    \"Username\": \"User_11\",\n",
    "    \"feedback\": \"Love the product\",\n",
    "    \"score\": 5\n",
    "  }\n",
    "]"
   ]
  }
 ],
 "metadata": {
  "kernelspec": {
   "display_name": "training-env",
   "language": "python",
   "name": "training-env"
  },
  "language_info": {
   "codemirror_mode": {
    "name": "ipython",
    "version": 3
   },
   "file_extension": ".py",
   "mimetype": "text/x-python",
   "name": "python",
   "nbconvert_exporter": "python",
   "pygments_lexer": "ipython3",
   "version": "3.11.3"
  }
 },
 "nbformat": 4,
 "nbformat_minor": 2
}
