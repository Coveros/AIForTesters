{
 "cells": [
  {
   "cell_type": "markdown",
   "metadata": {},
   "source": [
    "<h3>Test Data Cleanup</h3>\n",
    "<h4> Test Data Masking Prompt</h4"
   ]
  },
  {
   "cell_type": "raw",
   "metadata": {
    "vscode": {
     "languageId": "raw"
    }
   },
   "source": [
    "My test data is contained in a CSV formatted structure below between hash marks. The first column contains \n",
    "user names that are sensitive. Please produce a new set of data that adds a column for a unique identifier I \n",
    "can use to replace their name\n",
    "\n",
    "###\n",
    "Joe Blow, \"I don't like your product\"\n",
    "Freda Bleeda, \"Your product is bad\"\n",
    "Jim Bob Billy, \"Two thumbs down\"\n",
    "Jack Jill, \"Works perfectly!!!\"\n",
    "Helen Bell, \"Please refund my money\"\n",
    "Julia Childer, \"Works fine\"\n",
    "Gregory Deck, \"Bad instructions\"\n",
    "Matt Pack, \"Missing parts\"\n",
    "Joe Joe Moe, \"Love it\"\n",
    "Stacy Rush, \"Can you add more colors?\"\n",
    "###"
   ]
  },
  {
   "cell_type": "markdown",
   "metadata": {},
   "source": [
    "<h4>Test Data Masking Prompt Response</h4>"
   ]
  },
  {
   "cell_type": "raw",
   "metadata": {
    "vscode": {
     "languageId": "raw"
    }
   },
   "source": [
    "Here's your data with a new column containing unique identifiers:\n",
    "\n",
    "User\t        Feedback\t                User_ID\n",
    "Joe Blow\t    \"I don't like your product\"\tUser_1\n",
    "Freda Bleeda\t\"Your product is bad\"\t    User_2\n",
    "Jim Bob Billy\t\"Two thumbs down\"\t        User_3\n",
    "Jack Jill\t    \"Works perfectly!!!\"\t    User_4\n",
    "Helen Bell\t    \"Please refund my money\"\tUser_5\n",
    "Julia Childer\t\"Works fine\"\t            User_6\n",
    "Gregory Deck\t\"Bad instructions\"\t        User_7\n",
    "Matt Pack\t    \"Missing parts\"\t            User_8\n",
    "Joe Joe Moe\t    \"Love it\"\t                User_9\n",
    "Stacy Rush\t    \"Can you add more colors?\"\tUser_10"
   ]
  },
  {
   "cell_type": "markdown",
   "metadata": {},
   "source": [
    "<h4>Test Data Cleanup Prompt</h4>"
   ]
  },
  {
   "cell_type": "raw",
   "metadata": {
    "vscode": {
     "languageId": "raw"
    }
   },
   "source": [
    "My test data is located in a CSV formatted structure below between hash marks. Please analyze this data to \n",
    "identify missing data fields or data that appears to have an incorrect type. Correct any of these issues you \n",
    "find and output a new improved data set. The last column is the expected result which can be used to determine \n",
    "what values can be properly put into the missing data fields. Please explain the changes you made and justify them.\n",
    "\n",
    "###\n",
    "alcohol,malic_acid,ash,alcalinity_of_ash,magnesium,total_phenols,flavanoids,nonflavanoid_phenols,proanthocyanins,color_intensity,hue,od280/od315_of_diluted_wines,proline,target\n",
    "14.23,1.71,2.43,15.6,127,2.8,3.06,0.28,2.29,5.64,1.04,3.92,1065,0\n",
    "14.23,1.71,2.43,15.6,127,2.8,3.06,0.28,2.29,5.64,1.04,3.92,1065,0\n",
    ",1.78,2.14,11.2,100,2.65,2.76,0.26,1.28,4.38,1.05,3.4,1050,0\n",
    "13.16,2.36,2.67,18.6,101,2.8,3.24,0.3,2.81,5.68,1.03,3.17,1185,0\n",
    "...\n",
    "###"
   ]
  },
  {
   "cell_type": "markdown",
   "metadata": {},
   "source": [
    "<h4>Test Data Cleanup Prompt Response"
   ]
  },
  {
   "cell_type": "raw",
   "metadata": {
    "vscode": {
     "languageId": "raw"
    }
   },
   "source": [
    "Analysis of Issues:\n",
    "\n",
    "Missing Values: There is a missing value in the alcohol column (row 3).\n",
    "\n",
    "Inconsistent Decimal Precision: Several columns (alcalinity_of_ash, magnesium, color_intensity, etc.) have values \n",
    "with varying numbers of decimal places. This might indicate inconsistencies in how the data was collected or \n",
    "recorded.\n",
    "\n",
    "Duplicate Rows: Rows 1 and 2 are identical. This could be a genuine duplication or an error.\n",
    "\n",
    "Corrected Dataset:\n",
    "alcohol,malic_acid,ash,alcalinity_of_ash,magnesium,total_phenols,flavanoids,nonflavanoid_phenols,proanthocyanins,color_intensity,hue,od280/od315_of_diluted_wines,proline,target\n",
    "14.23,1.71,2.43,15.6,127,2.8,3.06,0.28,2.29,5.64,1.04,3.92,1065,0\n",
    "13.00,1.78,2.14,11.2,100,2.65,2.76,0.26,1.28,4.38,1.05,3.40,1050,0\n",
    "13.16,2.36,2.67,18.6,101,2.8,3.24,0.3,2.81,5.68,1.03,3.17,1185,0\n",
    "...\n"
   ]
  },
  {
   "cell_type": "markdown",
   "metadata": {},
   "source": [
    "<h4>Test Data Transformation Prompt</h4>"
   ]
  },
  {
   "cell_type": "raw",
   "metadata": {
    "vscode": {
     "languageId": "raw"
    }
   },
   "source": [
    "My test data is located in a CSV formatted structure below between hash marks. Please transform this dataset from \n",
    "CSV to JSON.\n",
    "\n",
    "###\n",
    "alcohol,malic_acid,ash,alcalinity_of_ash,magnesium,total_phenols,flavanoids,nonflavanoid_phenols,proanthocyanins,color_intensity,hue,od280/od315_of_diluted_wines,proline,target\n",
    "14.23,1.71,2.43,15.6,127,2.8,3.06,0.28,2.29,5.64,1.04,3.92,1065,0\n",
    "13.0,1.78,2.14,11.2,100,2.65,2.76,0.26,1.28,4.38,1.05,3.4,1050,0\n",
    "13.16,2.36,2.67,18.6,101,2.8,3.24,0.3,2.81,5.68,1.03,3.17,1185,0\n",
    "14.37,1.95,2.5,16.8,113,3.85,3.49,0.24,2.18,7.8,0.86,3.45,1480,0\n",
    "13.24,2.59,2.87,21.0,118,2.8,2.69,0.39,1.82,4.32,1.04,2.93,735,0\n",
    "14.2,1.76,2.45,15.2,112,3.27,3.39,0.34,1.97,6.75,1.05,2.85,1450,0\n",
    "14.39,1.87,2.45,14.6,96,2.5,2.52,0.3,1.98,5.25,1.02,3.58,1290,0\n",
    "14.06,2.15,2.61,17.6,121,2.6,2.51,0.31,1.25,5.05,1.06,3.58,1295,0\n",
    "14.83,1.64,2.17,14.0,97,2.8,2.98,0.29,1.98,5.2,1.08,2.85,1045,0\n",
    "13.86,1.35,2.27,16.0,98,2.98,3.15,0.22,1.85,7.22,1.01,3.55,1045,0\n",
    "###"
   ]
  },
  {
   "cell_type": "markdown",
   "metadata": {},
   "source": [
    "<h4>Test Data Transformation Prompt Reponse</h4>"
   ]
  },
  {
   "cell_type": "raw",
   "metadata": {
    "vscode": {
     "languageId": "raw"
    }
   },
   "source": [
    "[\n",
    "  {\n",
    "    \"alcohol\": 14.23,\n",
    "    \"malic_acid\": 1.71,\n",
    "    \"ash\": 2.43,\n",
    "    \"alcalinity_of_ash\": 15.6,\n",
    "    \"magnesium\": 127,\n",
    "    \"total_phenols\": 2.8,\n",
    "    \"flavanoids\": 3.06,\n",
    "    \"nonflavanoid_phenols\": 0.28,\n",
    "    \"proanthocyanins\": 2.29,\n",
    "    \"color_intensity\": 5.64,\n",
    "    \"hue\": 1.04,\n",
    "    \"od280/od315_of_diluted_wines\": 3.92,\n",
    "    \"proline\": 1065,\n",
    "    \"target\": 0\n",
    "  },\n",
    "  {\n",
    "    \"alcohol\": 12.999491525423728,\n",
    "    \"malic_acid\": 1.78,\n",
    "    \"ash\": 2.14,\n",
    "    \"alcalinity_of_ash\": 11.2,\n",
    "    \"magnesium\": 100,\n",
    "    \"total_phenols\": 2.65,\n",
    "    \"flavanoids\": 2.76,\n",
    "    \"nonflavanoid_phenols\": 0.26,\n",
    "    \"proanthocyanins\": 1.28,\n",
    "    \"color_intensity\": 4.38,\n",
    "    \"hue\": 1.05,\n",
    "    \"od280/od315_of_diluted_wines\": 3.4,\n",
    "    \"proline\": 1050,\n",
    "    \"target\": 0\n",
    "  },\n",
    "  {\n",
    "    \"alcohol\": 13.16,\n",
    "    \"malic_acid\": 2.36,\n",
    "    \"ash\": 2.67,\n",
    "    \"alcalinity_of_ash\": 18.6,\n",
    "    \"magnesium\": 101,\n",
    "    \"total_phenols\": 2.8,\n",
    "    \"flavanoids\": 3.24,\n",
    "    \"nonflavanoid_phenols\": 0.3,\n",
    "    \"proanthocyanins\": 2.81,\n",
    "    \"color_intensity\": 5.68,\n",
    "    \"hue\": 1.03,\n",
    "    \"od280/od315_of_diluted_wines\": 3.17,\n",
    "    \"proline\": 1185,\n",
    "    \"target\": 0\n",
    "  },\n",
    "  {\n",
    "    \"alcohol\": 14.37,\n",
    "    \"malic_acid\": 1.95,\n",
    "    \"ash\": 2.5,\n",
    "    \"alcalinity_of_ash\": 16.8,\n",
    "    \"magnesium\": 113,\n",
    "    \"total_phenols\": 3.85,\n",
    "    \"flavanoids\": 3.49,\n",
    "    \"nonflavanoid_phenols\": 0.24,\n",
    "    \"proanthocyanins\": 2.18,\n",
    "    \"color_intensity\": 7.8,\n",
    "    \"hue\": 0.86,\n",
    "    \"od280/od315_of_diluted_wines\": 3.45,\n",
    "    \"proline\": 1480,\n",
    "    \"target\": 0\n",
    "  },\n",
    "  {\n",
    "    \"alcohol\": 13.24,\n",
    "    \"malic_acid\": 2.59,\n",
    "    \"ash\": 2.87,\n",
    "    \"alcalinity_of_ash\": 21.0,\n",
    "    \"magnesium\": 118,\n",
    "    \"total_phenols\": 2.8,\n",
    "    \"flavanoids\": 2.69,\n",
    "    \"nonflavanoid_phenols\": 0.39,\n",
    "    \"proanthocyanins\": 1.82,\n",
    "    \"color_intensity\": 4.32,\n",
    "    \"hue\": 1.04,\n",
    "    \"od280/od315_of_diluted_wines\": 2.93,\n",
    "    \"proline\": 735,\n",
    "    \"target\": 0\n",
    "  },\n",
    "  {\n",
    "    \"alcohol\": 14.2,\n",
    "    \"malic_acid\": 1.76,\n",
    "    \"ash\": 2.45,\n",
    "    \"alcalinity_of_ash\": 15.2,\n",
    "    \"magnesium\": 112,\n",
    "    \"total_phenols\": 3.27,\n",
    "    \"flavanoids\": 3.39,\n",
    "    \"nonflavanoid_phenols\": 0.34,\n",
    "    \"proanthocyanins\": 1.97,\n",
    "    \"color_intensity\": 6.75,\n",
    "    \"hue\": 1.05,\n",
    "    \"od280/od315_of_diluted_wines\": 2.85,\n",
    "    \"proline\": 1450,\n",
    "    \"target\": 0\n",
    "  },\n",
    "  {\n",
    "    \"alcohol\": 14.39,\n",
    "    \"malic_acid\": 1.87,\n",
    "    \"ash\": 2.45,\n",
    "    \"alcalinity_of_ash\": 14.6,\n",
    "    \"magnesium\": 96,\n",
    "    \"total_phenols\": 2.5,\n",
    "    \"flavanoids\": 2.52,\n",
    "    \"nonflavanoid_phenols\": 0.3,\n",
    "    \"proanthocyanins\": 1.98,\n",
    "    \"color_intensity\": 5.25,\n",
    "    \"hue\": 1.02,\n",
    "    \"od280/od315_of_diluted_wines\": 3.58,\n",
    "    \"proline\": 1290,\n",
    "    \"target\": 0\n",
    "  },\n",
    "  {\n",
    "    \"alcohol\": 14.06,\n",
    "    \"malic_acid\": 2.15,\n",
    "    \"ash\": 2.61,\n",
    "    \"alcalinity_of_ash\": 17.6,\n",
    "    \"magnesium\": 121,\n",
    "    \"total_phenols\": 2.6,\n",
    "    \"flavanoids\": 2.51,\n",
    "    \"nonflavanoid_phenols\": 0.31,\n",
    "    \"proanthocyanins\": 1.25,\n",
    "    \"color_intensity\": 5.05,\n",
    "    \"hue\": 1.06,\n",
    "    \"od280/od315_of_diluted_wines\": 3.58,\n",
    "    \"proline\": 1295,\n",
    "    \"target\": 0\n",
    "  },\n",
    "  {\n",
    "    \"alcohol\": 14.83,\n",
    "    \"malic_acid\": 1.64,\n",
    "    \"ash\": 2.17,\n",
    "    \"alcalinity_of_ash\": 14.0,\n",
    "    \"magnesium\": 97,\n",
    "    \"total_phenols\": 2.8,\n",
    "    \"flavanoids\": 2.98,\n",
    "    \"nonflavanoid_phenols\": 0.29,\n",
    "    \"proanthocyanins\": 1.98,\n",
    "    \"color_intensity\": 5.2,\n",
    "    \"hue\": 1.08,\n",
    "    \"od280/od315_of_diluted_wines\": 2.85,\n",
    "    \"proline\": 1045,\n",
    "    \"target\": 0\n",
    "  },\n",
    "  {\n",
    "    \"alcohol\": 13.86,\n",
    "    \"malic_acid\": 1.35,\n",
    "    \"ash\": 2.27,\n",
    "    \"alcalinity_of_ash\": 16.0,\n",
    "    \"magnesium\": 98,\n",
    "    \"total_phenols\": 2.98,\n",
    "    \"flavanoids\": 3.15,\n",
    "    \"nonflavanoid_phenols\": 0.22,\n",
    "    \"proanthocyanins\": 1.85,\n",
    "    \"color_intensity\": 7.22,\n",
    "    \"hue\": 1.01,\n",
    "    \"od280/od315_of_diluted_wines\": 3.55,\n",
    "    \"proline\": 1045,\n",
    "    \"target\": 0\n",
    "  }\n",
    "]"
   ]
  }
 ],
 "metadata": {
  "kernelspec": {
   "display_name": "training-env",
   "language": "python",
   "name": "training-env"
  },
  "language_info": {
   "codemirror_mode": {
    "name": "ipython",
    "version": 3
   },
   "file_extension": ".py",
   "mimetype": "text/x-python",
   "name": "python",
   "nbconvert_exporter": "python",
   "pygments_lexer": "ipython3",
   "version": "3.11.3"
  }
 },
 "nbformat": 4,
 "nbformat_minor": 2
}
