{
 "cells": [
  {
   "cell_type": "markdown",
   "metadata": {},
   "source": [
    "<h3>Test Data Generator</h3>\n",
    "<h4>Test Data Generator Prompt</h4>"
   ]
  },
  {
   "cell_type": "raw",
   "metadata": {},
   "source": [
    "You are a CSV data generator for the HTML login screen in our wine classification application. Generate 10 test cases and check your work before outputting the results to make sure there are no duplicates. The first line in the results should include the names of the columns: ‘username’, ‘password’, ‘confirm_password’\n",
    "\n",
    "- Each input parameter is designated by a % sign below.\n",
    "- Each input parameter includes its name, its data type, and its range separated by a |\n",
    "- If the range says \"random\", generate random data\n",
    "\n",
    "% username | alphanumeric string | random with no more than 20 characters\n",
    "% password | string | random that includes upper case, lower case, numeric, special characters of at least 10 characters and no more than 30\n",
    "% confirm_password | string | same value as password input parameter above"
   ]
  },
  {
   "cell_type": "markdown",
   "metadata": {},
   "source": [
    "<h4>Test Data Generator Prompt Results</h4>"
   ]
  },
  {
   "cell_type": "raw",
   "metadata": {
    "vscode": {
     "languageId": "raw"
    }
   },
   "source": [
    "username,password,confirm_password\n",
    "testuser1,P@$$wOrd123!,P@$$wOrd123!\n",
    "winelover2,Str0ngPa$$wOrd!,Str0ngPa$$wOrd!\n",
    "grapefan3,MyN3wP@$$wOrd!,MyN3wP@$$wOrd!\n",
    "sommelier4,C0mpl3xP@$$wOrd!,C0mpl3xP@$$wOrd!\n",
    "vinotaster5,S3cur3P@$$wOrd!,S3cur3P@$$wOrd!\n",
    "winegeek6,P@$$wOrd#123,P@$$wOrd#123\n",
    "cellar7,An0therP@$$wOrd!,An0therP@$$wOrd!\n",
    "cork8,Cr@zyP@$$wOrd!,Cr@zyP@$$wOrd!\n",
    "chardonnay9,G00dP@$$wOrd!,G00dP@$$wOrd!\n",
    "merlot10,V3ryStr0ngP@$$wOrd!,V3ryStr0ngP@$$wOrd!"
   ]
  },
  {
   "cell_type": "markdown",
   "metadata": {},
   "source": [
    "Test Data Augmentation Prompt"
   ]
  },
  {
   "cell_type": "raw",
   "metadata": {
    "vscode": {
     "languageId": "raw"
    }
   },
   "source": [
    "You are a CSV test data generator for the HTML login screen in our wine classification application. Below \n",
    "between hash marks is my existing test data in CSV format. The first row includes the input parameter name \n",
    "(three columns) plus the expected result (last column). Please generate 10 additional tests and expected results. \n",
    "Make sure these new tests do not duplicate existing tests. Put them in CSV format.\n",
    "\n",
    "###\n",
    "username,password,confirm_password,expected_result\n",
    "testuser1,P@$$wOrd123!,P@$$wOrd123!, successful\n",
    "winelover2,Str0ngPa$$wOrd!,Str0ngPa$$wOrd!, successful\n",
    "grapefan3,MyN3wP@$$wOrd!,MyN3wP@$$wOrd!, successful\n",
    "sommelier4,C0mpl3xP@$$wOrd!,C0mpl3xP@$$wOrd!, successful\n",
    "vinotaster5,S3cur3P@$$wOrd!,S3cur3P@$$wOrd!, successful\n",
    "winegeek6,P@$$wOrd#123,P@$$wOrd#123, successful\n",
    "cellar7,An0therP@$$wOrd!,An0therP@$$wOrd!, successful\n",
    "cork8,Cr@zyP@$$wOrd!,Cr@zyP@$$wOrd!, successful\n",
    "chardonnay9,G00dP@$$wOrd!,G00dP@$$wOrd!, successful\n",
    "merlot10,V3ryStr0ngP@$$wOrd!,V3ryStr0ngP@$$wOrd!, successful\n",
    "###"
   ]
  },
  {
   "cell_type": "markdown",
   "metadata": {},
   "source": [
    "<h4>Test Data Augmentation Prompt Results</h4>"
   ]
  },
  {
   "cell_type": "raw",
   "metadata": {
    "vscode": {
     "languageId": "raw"
    }
   },
   "source": [
    "username,password,confirm_password,expected_result\n",
    "cabernet11,Un1qu3P@$$wOrd!,Un1qu3P@$$wOrd!,successful\n",
    "riesling12,S0m3P@$$wOrd!,S0m3P@$$wOrd!,successful\n",
    "pinot13,D1ff3r3ntP@$$wOrd!,D1ff3r3ntP@$$wOrd!,successful\n",
    "syrah14,N3wP@$$wOrd!,N3wP@$$wOrd!,successful\n",
    "zinfandel15,Cr@zyP@$$wOrd#2!,Cr@zyP@$$wOrd#2!,successful\n",
    "malbec16,Str0ng3rP@$$wOrd!,Str0ng3rP@$$wOrd!,successful\n",
    "sangiovese17,C0mpl3x#2P@$$wOrd!,C0mpl3x#2P@$$wOrd!,successful\n",
    "gamay18,S3cur3#2P@$$wOrd!,S3cur3#2P@$$wOrd!,successful\n",
    "tempranillo19,G00d#2P@$$wOrd!,G00d#2P@$$wOrd!,successful\n",
    "verdelho20,V3ryStr0ng#2P@$$wOrd!,V3ryStr0ng#2P@$$wOrd!,successful"
   ]
  },
  {
   "cell_type": "markdown",
   "metadata": {},
   "source": [
    "<h4>Negative Test Data Augmentation Prompt</h4>"
   ]
  },
  {
   "cell_type": "raw",
   "metadata": {
    "vscode": {
     "languageId": "raw"
    }
   },
   "source": [
    "You are a CSV test data generator for the HTML login screen in our wine classification application. Below \n",
    "between hash marks is my existing test data in CSV format. The first row includes the input parameter name \n",
    "(three columns) plus the expected result (last column).\n",
    "\n",
    "Please generate 10 additional tests that should fail and their expected result that includes the error message \n",
    "to show. Test data that should fail will include any of the following scenarios\n",
    "\n",
    "- username that are not validate email addresses\n",
    "- password that are not at least 8 characters long or don’t include all of the following: capital letter, number, special character\n",
    "- Confirm_password does not match password\n",
    "\n",
    "###\n",
    "username,password,confirm_password,expected_result\n",
    "cabernet11,Un1qu3P@$$wOrd!,Un1qu3P@$$wOrd!,successful\n",
    "riesling12,S0m3P@$$wOrd!,S0m3P@$$wOrd!,successful\n",
    "pinot13,D1ff3r3ntP@$$wOrd!,D1ff3r3ntP@$$wOrd!,successful\n",
    "syrah14,N3wP@$$wOrd!,N3wP@$$wOrd!,successful\n",
    "zinfandel15,Cr@zyP@$$wOrd#2!,Cr@zyP@$$wOrd#2!,successful\n",
    "malbec16,Str0ng3rP@$$wOrd!,Str0ng3rP@$$wOrd!,successful\n",
    "sangiovese17,C0mpl3x#2P@$$wOrd!,C0mpl3x#2P@$$wOrd!,successful\n",
    "gamay18,S3cur3#2P@$$wOrd!,S3cur3#2P@$$wOrd!,successful\n",
    "tempranillo19,G00d#2P@$$wOrd!,G00d#2P@$$wOrd!,successful\n",
    "verdelho20,V3ryStr0ng#2P@$$wOrd!,V3ryStr0ng#2P@$$wOrd!,successful\n",
    "###"
   ]
  },
  {
   "cell_type": "markdown",
   "metadata": {},
   "source": [
    "<h4>Negative Test Data Augmentation Prompt Results</h4>"
   ]
  },
  {
   "cell_type": "raw",
   "metadata": {
    "vscode": {
     "languageId": "raw"
    }
   },
   "source": [
    "username,password,confirm_password,expected_result\n",
    "invalid_email,P@$$wOrd,P@$$wOrd,Invalid email address\n",
    "shortuser,Short!,Short!,Username must be a valid email address\n",
    "testuser,weak,weak,Password must be at least 8 characters long and contain at least one uppercase letter, one number, and one special character.\n",
    "testuser,P@$$word,P@$$word,Password must contain at least one uppercase letter, one number, and one special character.\n",
    "testuser,Password123,Password123,Password must contain at least one special character.\n",
    "testuser,P@$$wOrd,P@$$wOrd1,Confirm password does not match password.\n",
    "testuser,P@$$wOrd!,P@$$wOrd2,Confirm password does not match password.\n",
    "testuser1,P@$$wOrd123!,P@$$wOrd,Confirm password does not match password.\n",
    "testuser,NoSpecialChar,NoSpecialChar,Password must contain at least one special character.\n",
    "testuser,NoNumber,NoNumber,Password must contain at least one number."
   ]
  }
 ],
 "metadata": {
  "language_info": {
   "name": "python"
  }
 },
 "nbformat": 4,
 "nbformat_minor": 2
}
