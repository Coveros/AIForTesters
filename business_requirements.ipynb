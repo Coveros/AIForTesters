{
 "cells": [
  {
   "cell_type": "raw",
   "metadata": {
    "vscode": {
     "languageId": "raw"
    }
   },
   "source": [
    "Business Requirements for Wine Classifier\n",
    "\n",
    "Functional Business Requirements\n",
    "\n",
    "1. Login: Users shall login to their account to use the wine classification software<br>\n",
    "2. Logout: Users shall be able to logout of their account<br>\n",
    "3. Register: Users without an account shall register and create an account<br>\n",
    "4. Classify Wines: Users shall be able to enter wine characteristics and classify a wine<br>\n",
    "5. Manage Profiles: Users shall be able to view their profile and change their password<br>\n",
    "6. View About: All visitors to the website shall be able to access an About page<br>\n",
    "7. Activity Logging: User activity shall be logged<br>\n",
    "8. Administration: Adminstrators shall be able to perform administrative functions\n",
    "\n",
    "Non-functional Business Requirements\n",
    "\n",
    "1. Security: Sensitive user information shall be kept secure<br> \n",
    "2. Privacy: Sensitive information shall be hidden from view<br>\n",
    "3. Performance: The software shall be fast enough to satisfy users<br>\n",
    "4. User experience: The software shall be easy to understand and use\n"
   ]
  },
  {
   "cell_type": "markdown",
   "metadata": {},
   "source": []
  }
 ],
 "metadata": {
  "language_info": {
   "name": "python"
  }
 },
 "nbformat": 4,
 "nbformat_minor": 2
}
