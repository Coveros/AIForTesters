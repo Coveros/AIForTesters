{
 "cells": [
  {
   "cell_type": "markdown",
   "metadata": {},
   "source": [
    "<h3>Business Requirements for Wine Classifier</h3>\n",
    "<h4>Functional Business Requirements</h4>\n",
    "<ul>\n",
    "<li>Login: Users shall login to their account use the wine classification software<br>\n",
    "<li>Logout: Users shall be able to logout of their account<br>\n",
    "<li> Register: Users without an account shall register and create an account<br>\n",
    "<li> Classify Wines: Users shall be able to enter wine characteristics and classify a wine<br>\n",
    "<li> Manage Profiles: Users shall be able to view their profile and change their password<br>\n",
    "<li> View About: All visitors to the website shall be able to access an About page<br>\n",
    "<li> Activity Logging: User activity shall be logged<br>\n",
    "<li> Administration: Adminstrators shall be able to perform administrative functions\n",
    "</ul>\n",
    "<h4>Non-functional Business Requirements</h4>\n",
    "<ul>\n",
    "<li> Security: Sensitive user information shall be kept secure<br> \n",
    "<li> Privacy: Sensitive information shall be hidden from view<br>\n",
    "<li> Performance: The software shall be fast enough to satisfy users<br>\n",
    "<li> User experience: The software shall be easy to understand and use\n",
    "</ul>\n"
   ]
  },
  {
   "cell_type": "markdown",
   "metadata": {},
   "source": []
  }
 ],
 "metadata": {
  "language_info": {
   "name": "python"
  }
 },
 "nbformat": 4,
 "nbformat_minor": 2
}
