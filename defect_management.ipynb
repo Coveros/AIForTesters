{
 "cells": [
  {
   "cell_type": "markdown",
   "metadata": {},
   "source": [
    "<h3>Defect Management</h3>\n",
    "<h4> Defect Categorization Prompt</h4>"
   ]
  },
  {
   "cell_type": "raw",
   "metadata": {},
   "source": [
    "Please use the defect categories delimited by hash marks and assign each defect delimited by ampersands to one of \n",
    "these categories.\n",
    "###\n",
    "1. Functional: The software does not perform as required. (e.g., incorrect output, missing feature)\n",
    "2. Performance: The software is too slow, uses too much memory, or is unstable. (e.g., slow loading times, crashes)\n",
    "3. Usability: The software is difficult to use or understand. (e.g., confusing navigation, unclear error messages)\n",
    "4. UI/Cosmetic: Problems with the user interface, such as incorrect layout, misaligned text, or visual glitches. \n",
    "   (e.g., broken links, incorrect font)\n",
    "5. Security: Vulnerabilities that could be exploited to compromise the system. \n",
    "   (e.g., SQL injection, cross-site scripting)\n",
    "6. Data: Problems with data integrity, storage, or retrieval. (e.g., incorrect data, data corruption)\n",
    "7. Documentation: Errors or omissions in the documentation. (e.g., incorrect instructions, outdated information)\n",
    "###\n",
    "&&&\n",
    "[Add your defects here]\n",
    "&&&\n"
   ]
  },
  {
   "cell_type": "markdown",
   "metadata": {},
   "source": [
    "<h4>Defect Prioritization Prompt</h4>"
   ]
  },
  {
   "cell_type": "raw",
   "metadata": {},
   "source": [
    "For each of the defects below, please assign a priority to each defect. Priority levels include \n",
    "Critical, High, Medium, or Low. Justify each of your assignments.\n",
    "\n",
    "###\n",
    "[Place defects here]\n",
    "###\n",
    "\n"
   ]
  },
  {
   "cell_type": "markdown",
   "metadata": {},
   "source": [
    "<h4>Defect Assignment Prompt</h4>  "
   ]
  },
  {
   "cell_type": "raw",
   "metadata": {},
   "source": [
    "Please assign each of the Critical and High priority defects delimited by harsh marks to the appropriate \n",
    "software developer delimited by ampersands who is best suited to fix the issue. Justify your assignments.\n",
    "\n",
    "###\n",
    "[Place defects by category and priority here]\n",
    "###\n",
    "&&&\n",
    "Joe Schmoe - A UI developer who is not very responsive when asked to investigate and fix defects.\n",
    "Sally Bayesian - A developer who is average at UI and API development but who is extremely diligent about \n",
    "                 fixing defects.\n",
    "Harold Gandhi - A database administrator who doesn't know anything else but will begrudgingly investigate defects \n",
    "                if asked to do so.\n",
    "Hack Er - A developer who enjoys application security work\n",
    "&&&\n"
   ]
  }
 ],
 "metadata": {
  "language_info": {
   "name": "python"
  }
 },
 "nbformat": 4,
 "nbformat_minor": 2
}
