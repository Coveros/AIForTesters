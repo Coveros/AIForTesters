{
 "cells": [
  {
   "cell_type": "markdown",
   "metadata": {},
   "source": [
    "<h2>Defect Management Using AI</h2>\n",
    "How to categorize, prioritize, assign, and predict defects using AI capabilities"
   ]
  },
  {
   "cell_type": "markdown",
   "metadata": {},
   "source": [
    "<h3>Send the following prompt into a chatbot</3>"
   ]
  },
  {
   "cell_type": "code",
   "execution_count": null,
   "metadata": {
    "vscode": {
     "languageId": "plaintext"
    }
   },
   "outputs": [],
   "source": [
    "Please create three unique defect categories and assign each of the following \n",
    "defects to one of those categories:\n",
    "\n",
    "1. Login page not loading properly\n",
    "2. Incorrect calculation of wine variety\n",
    "3. Slow response time for AI model\n",
    "4. Website crashes when >100 users are online\n",
    "5. Buttons not 508 compliant\n",
    "6. The word 'alcohol' is misspelled as 'alchol' on the website\n",
    "7. The precision on the wine attributes should be two decimal places instead of one\n",
    "8. The colors used on the website are not accessible to color blind users\n",
    "\n"
   ]
  },
  {
   "cell_type": "code",
   "execution_count": null,
   "metadata": {
    "vscode": {
     "languageId": "plaintext"
    }
   },
   "outputs": [],
   "source": [
    "Please assign a priority to each of the defects above based on the following criteria:\n",
    "\"Critical\", \"High\", \"Medium\", or \"Low\", and making sure to justify your assignment.\""
   ]
  },
  {
   "cell_type": "code",
   "execution_count": null,
   "metadata": {
    "vscode": {
     "languageId": "plaintext"
    }
   },
   "outputs": [],
   "source": [
    "Please assign the defects above to the developer listed below between hash marks\n",
    "who is best-suited to fixing it, making sure to justify your assignments.\n",
    "List them in priority order by developer.\n",
    "\n",
    "###\n",
    "Joe Schmoe - A UI developer who is not very responsive when asked to investigate and fix defects.\n",
    "Sally Bayesian - A developer who is average at UI and API development but who is extremely diligent about fixing defects.\n",
    "Harold Gandhi - An AI developer who is very responsive and skilled at fixing defects but who is not very good at UI development.\n",
    "Freda Lovelace - Someone really good data analysis and performance."
   ]
  }
 ],
 "metadata": {
  "kernelspec": {
   "display_name": "Python 3 (ipykernel)",
   "language": "python",
   "name": "python3"
  },
  "language_info": {
   "codemirror_mode": {
    "name": "ipython",
    "version": 3
   },
   "file_extension": ".py",
   "mimetype": "text/x-python",
   "name": "python",
   "nbconvert_exporter": "python",
   "pygments_lexer": "ipython3",
   "version": "3.12.3"
  }
 },
 "nbformat": 4,
 "nbformat_minor": 4
}
