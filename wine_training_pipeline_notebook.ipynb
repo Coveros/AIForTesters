{
 "cells": [
  {
   "cell_type": "markdown",
   "metadata": {},
   "source": [
    "<h2>Training pipeline for wine classification</h2>\n",
    "This file contains the final version of our model, parameters, hyperparmeters for our wine classification application"
   ]
  },
  {
   "cell_type": "code",
   "execution_count": null,
   "metadata": {},
   "outputs": [],
   "source": [
    "import matplotlib.pyplot as plt\n",
    "import seaborn as sns\n",
    "import pandas as pd\n",
    "import numpy as np\n",
    "\n",
    "from sklearn import ensemble, datasets, metrics, model_selection, preprocessing, pipeline\n",
    "\n",
    "train_size = 0.8\n",
    "n_estimators = 10\n",
    "max_depth = 5"
   ]
  },
  {
   "cell_type": "markdown",
   "metadata": {},
   "source": [
    "<h2>Load in and split data</h2>"
   ]
  },
  {
   "cell_type": "code",
   "execution_count": null,
   "metadata": {},
   "outputs": [],
   "source": [
    "# check to make sure the train_size is a percentage greater than 0 and less than 1\n",
    "if (train_size <= 0.0 or train_size >= 1.0):\n",
    "    raise ValueError(\"train_size must be greater than 0 or less than 1\")\n",
    "    \n",
    "try:\n",
    "    wine_data = pd.read_csv('wine_dataset.csv')\n",
    "except:\n",
    "    raise Exception(\"Could not load wine dataset\")\n",
    " \n",
    "# Populate your x and y coordinates for your wine data\n",
    "try:\n",
    "    X = wine_data.drop('target', axis =1)\n",
    "    y = wine_data['target']\n",
    "except:\n",
    "    raise Exception(\"Could not extract data\")\n",
    "\n",
    "# Stratify the data by the target labels to ensure that the training and testing datasets \n",
    "# have the same proportion of wine types\n",
    "\n",
    "# Split the wine dataset and create inputs (x variables) & labeled outputs (y variables) for supervised training\n",
    "X_train, X_test, y_train, y_test = model_selection.train_test_split(X, y, train_size=train_size, \n",
    "                                                                        stratify=y)\n",
    "\n"
   ]
  },
  {
   "cell_type": "markdown",
   "metadata": {},
   "source": [
    "<h2>Create and train the model</h2>"
   ]
  },
  {
   "cell_type": "code",
   "execution_count": null,
   "metadata": {},
   "outputs": [],
   "source": [
    "# check to make sure the n_estimators is greater than 0\n",
    "if (n_estimators <= 0):\n",
    "    raise Exception(\"n_estimators must be greater than 0\")\n",
    "    \n",
    "# check to make sure the max_depth is greater than 0\n",
    "if (max_depth <= 0):\n",
    "    raise Exception(\"max_depth must be greater than 0\")\n",
    "\n",
    "# create random forest structure based on hyperparameters\n",
    "model = ensemble.RandomForestClassifier(n_estimators=n_estimators, max_depth=max_depth)\n",
    "\n",
    "# train model on wine data\n",
    "model.fit(X_train, y_train)"
   ]
  },
  {
   "cell_type": "markdown",
   "metadata": {},
   "source": [
    "<h2>Test the model</h2>"
   ]
  },
  {
   "cell_type": "code",
   "execution_count": null,
   "metadata": {},
   "outputs": [],
   "source": [
    "# Test the model using the using the testing dataset we created\n",
    "predicted = model.predict(X_test)\n",
    "\n",
    "# Generate a confusion matrix across the three different types of wine to determine the models accuracy\n",
    "confusion_matrix = pd.DataFrame(metrics.confusion_matrix(y_test, predicted))\n",
    "\n",
    "# Make a heat map image of the confusion matrix results\n",
    "_ = sns.heatmap(confusion_matrix, annot=True, cmap=\"Blues\")"
   ]
  },
  {
   "cell_type": "markdown",
   "metadata": {},
   "source": [
    "<h2>Generate accuracy metrics</h2>\n",
    "Evalute the model against common metrics"
   ]
  },
  {
   "cell_type": "code",
   "execution_count": null,
   "metadata": {},
   "outputs": [],
   "source": [
    "print(\"accuracy: {:.3f}\".format(metrics.accuracy_score(y_test, predicted)))\n",
    "print(\"precision: {:.3f}\".format(metrics.precision_score(y_test, predicted, average='weighted')))\n",
    "print(\"recall: {:.3f}\".format(metrics.recall_score(y_test, predicted, average='weighted')))\n",
    "print(\"f1 score: {:.3f}\".format(metrics.f1_score(y_test, predicted, average='weighted')))\n"
   ]
  }
 ],
 "metadata": {
  "kernelspec": {
   "display_name": "training-env",
   "language": "python",
   "name": "training-env"
  },
  "language_info": {
   "codemirror_mode": {
    "name": "ipython",
    "version": 3
   },
   "file_extension": ".py",
   "mimetype": "text/x-python",
   "name": "python",
   "nbconvert_exporter": "python",
   "pygments_lexer": "ipython3",
   "version": "3.12.3"
  }
 },
 "nbformat": 4,
 "nbformat_minor": 4
}
