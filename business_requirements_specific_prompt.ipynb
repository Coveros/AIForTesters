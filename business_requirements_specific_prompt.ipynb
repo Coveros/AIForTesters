{
 "cells": [
  {
   "cell_type": "markdown",
   "metadata": {},
   "source": [
    "<h3>Business Requirements Specific Prompt</h3>\n",
    "<h4>Specific Prompt</h4>\n"
   ]
  },
  {
   "cell_type": "raw",
   "metadata": {
    "vscode": {
     "languageId": "raw"
    }
   },
   "source": [
    "You are a software testing expert planning to test a software application \n",
    "that classifies wines by their chemical properties. Analyze the \n",
    "requirement delimited by hash marks below and generate questions that \n",
    "will clarify ambiguities.\n",
    "\n",
    "###\n",
    "[Place Specific Requirement Here]\n",
    "###"
   ]
  },
  {
   "cell_type": "markdown",
   "metadata": {},
   "source": [
    "<h4>Specific Prompt Result (for Login)</h4>"
   ]
  },
  {
   "cell_type": "raw",
   "metadata": {},
   "source": [
    "Let's break down the \"Login\" requirement and identify potential ambiguities that need clarification before testing.  Here are some questions to ask the stakeholders:\n",
    "\n",
    "General Login Flow:\n",
    "\n",
    "Q1: What constitutes a valid user account? (e.g., Is there a specific format for usernames/passwords? What character sets are allowed? Minimum/maximum length restrictions?)\n",
    "Q2: How are user accounts created? (e.g., Self-registration? Admin creation? Integration with an existing system?)\n",
    "Q3: What happens if a user enters incorrect credentials? (e.g., Error message displayed? Account lockout after a certain number of attempts? What is the lockout duration?)\n",
    "Q4: Is there a \"Forgot Password\" functionality? If so, how does it work? (e.g., Email verification? Security questions?)\n",
    "Q5: What happens after a successful login? (e.g., Redirected to a specific page? Session management - how long does a session last before timeout?)\n",
    "Q6: Is there a logout functionality? If so, what happens upon logout? (e.g., Session termination? Redirect to login page?)\n",
    "\n",
    "Security Considerations:\n",
    "\n",
    "Q7: What are the password complexity requirements? (e.g., Minimum length, uppercase/lowercase, numbers, special characters?)\n",
    "Q8: How is password security handled? (e.g., Hashing, salting?)\n",
    "Q9: Is multi-factor authentication (MFA) supported? If so, how does it work?\n",
    "Q10: Are there any specific security vulnerabilities we should be aware of and test for? (e.g., Cross-site scripting (XSS), SQL injection?)\n",
    "\n",
    "User Roles and Permissions (If Applicable):\n",
    "\n",
    "Q11: Are there different user roles with varying levels of access? (e.g., Administrator, Standard User, Guest?)\n",
    "If so, what are the specific permissions associated with each role related to wine classification functionality? (e.g., Can all roles classify wines? Can some roles only view classifications?)\n",
    "Q12: How are roles assigned to users?\n",
    "\n",
    "Error Handling and User Experience:\n",
    "\n",
    "Q13: What specific error messages should be displayed for different login failures? (e.g., Invalid username, incorrect password, account locked, system error?)\n",
    "Q14: How should these error messages be presented to the user? (e.g., Clear and concise language, visually distinct?)\n",
    "Q15: What is the expected behavior if the login system is temporarily unavailable? (e.g., Maintenance message, retry mechanism?)\n",
    "\n",
    "Integration with Other Systems:\n",
    "\n",
    "Q16: Does the login system integrate with any other systems? (e.g., User directory, single sign-on (SSO) provider?) If so, what are the integration points and how should they be tested?\n",
    "\n",
    "Performance and Scalability:\n",
    "\n",
    "Q17: What is the expected login response time?\n",
    "\n",
    "Q18: How many concurrent users should the login system be able to handle?"
   ]
  }
 ],
 "metadata": {
  "language_info": {
   "name": "python"
  }
 },
 "nbformat": 4,
 "nbformat_minor": 2
}
