{
 "cells": [
  {
   "cell_type": "markdown",
   "metadata": {},
   "source": [
    "<h4>About User Stories</h4>"
   ]
  },
  {
   "cell_type": "raw",
   "metadata": {},
   "source": [
    "As anyone who loads the wine classification application, I want to be able to get to the About page to learn \n",
    "more about this Wine Classification software\n",
    "-\tGiven I am on the wine classification application, when I view the About page, then I see information about \n",
    "    the application\n"
   ]
  }
 ],
 "metadata": {
  "language_info": {
   "name": "python"
  }
 },
 "nbformat": 4,
 "nbformat_minor": 2
}
